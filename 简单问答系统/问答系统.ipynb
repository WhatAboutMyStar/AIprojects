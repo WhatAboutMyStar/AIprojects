{
 "cells": [
  {
   "cell_type": "markdown",
   "metadata": {
    "collapsed": true
   },
   "source": [
    "##  搭建一个基于检索的问答系统"
   ]
  },
  {
   "cell_type": "markdown",
   "metadata": {
    "collapsed": true
   },
   "source": [
    "##### 完成项目所需的知识点：\n",
    "##### 1. 字符串操作   2. 文本预处理技术（词过滤，标准化）   3. 文本的表示（tf-idf, word2vec)  4. 文本相似度计算  5. 文本高效检索\n",
    "\n",
    "##### 此项目需要的数据：\n",
    "##### 1. dev-v2.0.json: 这个数据包含了问题和答案的pair， 但是以JSON格式存在，需要编写parser来提取出里面的问题和答案。 \n",
    "##### 2. glove.6B: 这个文件需要从网上下载，下载地址为：https://nlp.stanford.edu/projects/glove/， 请使用d=100的词向量"
   ]
  },
  {
   "cell_type": "markdown",
   "metadata": {},
   "source": [
    "### Part 1  第一部分： 读取文件，文本的处理。"
   ]
  },
  {
   "cell_type": "code",
   "execution_count": 14,
   "metadata": {},
   "outputs": [
    {
     "name": "stderr",
     "output_type": "stream",
     "text": [
      "[nltk_data] Downloading package stopwords to\n",
      "[nltk_data]     C:\\Users\\86189\\AppData\\Roaming\\nltk_data...\n",
      "[nltk_data]   Package stopwords is already up-to-date!\n",
      "[nltk_data] Downloading package punkt to\n",
      "[nltk_data]     C:\\Users\\86189\\AppData\\Roaming\\nltk_data...\n",
      "[nltk_data]   Unzipping tokenizers\\punkt.zip.\n"
     ]
    }
   ],
   "source": [
    "import json\n",
    "import nltk\n",
    "import numpy as np\n",
    "import scipy.spatial.distance as distance\n",
    "from nltk.corpus import stopwords\n",
    "from nltk.probability import FreqDist\n",
    "from nltk.stem import WordNetLemmatizer\n",
    "from sklearn.feature_extraction.text import TfidfVectorizer\n",
    "import matplotlib.pyplot as plt\n",
    "\n",
    "# '停用词列表'为所有函数共用(使用nltk停用词)\n",
    "# nltk.download('stopwords') #下载wordnet语料库\n",
    "# nltk.download('punkt')\n",
    "stopWords = stopwords.words(\"english\") #停用词设定为英语\n",
    "customStopWords = [\"when\",'what','how','where','the']\n",
    "stopWords.extend(customStopWords) #添加停用词\n",
    "#预处理 数据清洗 停用词 小写 去标点\n",
    "def clean_words(strWords):\n",
    "    wordList = nltk.word_tokenize(strWords) #分词返回一个分好词的列表\n",
    "    lemmatizer = WordNetLemmatizer() #词形还原（lemmatization），是把一个词汇还原为一般形式（能表达完整语义）\n",
    "    filterWords = [lemmatizer.lemmatize(word.lower()) \\\n",
    "                   for word in wordList \\\n",
    "                   if word.isalpha() and word.lower() not in stopWords]\n",
    "    return filterWords\n",
    "\n",
    "# 读取数据生成新的字典\n",
    "def read_corpus():\n",
    "    filepath = \"./data/train-v2.0.json\"\n",
    "    #问题列表\n",
    "    qList = []\n",
    "    #问题的关键词列表\n",
    "    qList_kw = []\n",
    "    #答案列表\n",
    "    aList = []\n",
    "    with open(filepath) as data:\n",
    "        d = json.load(data)\n",
    "        for dataSet in d[\"data\"]:\n",
    "            for par in dataSet[\"paragraphs\"]:\n",
    "                for qas in par[\"qas\"]:\n",
    "                    if qas[\"is_impossible\"] == False:\n",
    "                        strQuestion = qas[\"question\"]\n",
    "                        qList.append(strQuestion)\n",
    "                        qList_kw.append(clean_words(strQuestion))\n",
    "                        aList.append(qas[\"answers\"][0][\"text\"])\n",
    "    return qList_kw,qList,aList\n",
    "\n",
    "qList_kw, qList ,aList = read_corpus()"
   ]
  },
  {
   "cell_type": "code",
   "execution_count": 17,
   "metadata": {},
   "outputs": [
    {
     "name": "stdout",
     "output_type": "stream",
     "text": [
      "['beyonce', 'start', 'becoming', 'popular']\n",
      "When did Beyonce start becoming popular?\n",
      "in the late 1990s\n"
     ]
    }
   ],
   "source": [
    "print(qList_kw[0])\n",
    "print(qList[0])\n",
    "print(aList[0])"
   ]
  },
  {
   "cell_type": "code",
   "execution_count": null,
   "metadata": {},
   "outputs": [],
   "source": []
  },
  {
   "cell_type": "markdown",
   "metadata": {},
   "source": [
    "### Part 2 理解数据（可视化分析/统计信息）\n",
    "对数据的理解是任何AI工作的第一步，需要充分对手上的数据有个更直观的理解。 "
   ]
  },
  {
   "cell_type": "markdown",
   "metadata": {
    "collapsed": true
   },
   "source": [
    "TODO: 统计一下在qlist 总共出现了多少个单词？ 总共出现了多少个不同的单词？需要做简单的分词，对于英文我们根据空格来分词即可，"
   ]
  },
  {
   "cell_type": "markdown",
   "metadata": {},
   "source": [
    "TODO: 在qlist和alist里出现次数最多的TOP 10单词分别是什么？ \n",
    "出现最多的十个单词见图中单词   "
   ]
  },
  {
   "cell_type": "code",
   "execution_count": 19,
   "metadata": {},
   "outputs": [
    {
     "name": "stdout",
     "output_type": "stream",
     "text": [
      "单词总数:  454147\n",
      "不同单词数：  30673\n"
     ]
    },
    {
     "data": {
      "image/png": "[encoded data removed]",
      "text/plain": [
       "<Figure size 432x288 with 1 Axes>"
      ]
     },
     "metadata": {
      "needs_background": "light"
     },
     "output_type": "display_data"
    }
   ],
   "source": [
    "# TODO: 统计一下qlist中每个单词出现的频率，并把这些频率排一下序，然后画成plot. \n",
    "#比如总共出现了总共7个不同单词，而且每个单词出现的频率为 4, 5,10,2, 1, 1,1\n",
    "#       把频率排序之后就可以得到(从大到小) 10, 5, 4, 2, 1, 1, 1. 然后把这7个数plot即可（从大到小）\n",
    "#       需要使用matplotlib里的plot函数。y轴是词频\n",
    "def plot_words(wordList):\n",
    "    fDist = FreqDist(wordList) #构造函数接受一个列表,键为传入构造函数的列表中的不同项，值为项出现的次数\n",
    "    print(\"单词总数: \",fDist.N())\n",
    "    print(\"不同单词数： \",fDist.B())\n",
    "    fDist.plot(10)   #plot(n)，绘制出现次数最多的前n项\n",
    "all_question = \" \".join(qList)\n",
    "qWordList = clean_words(all_question)\n",
    "plot_words(qWordList)"
   ]
  },
  {
   "cell_type": "markdown",
   "metadata": {},
   "source": [
    "\n"
   ]
  },
  {
   "cell_type": "markdown",
   "metadata": {},
   "source": [
    "### 3 文本表示\n",
    "当我们做完关键的预处理过程之后，就需要把每一个文本转换成向量。"
   ]
  },
  {
   "cell_type": "markdown",
   "metadata": {},
   "source": [
    "TODO: 把qlist中的每一个问题字符串转换成tf-idf向量, 转换之后的结果存储在X矩阵里。 X的大小是： N* D的矩阵。 这里N是问题的个数（样本个数），\n",
    "      D是字典库的大小。 \n",
    "vectorizer =  # 定一个tf-idf的vectorizer\n",
    "X =   # 结果存放在X矩阵"
   ]
  },
  {
   "cell_type": "code",
   "execution_count": 22,
   "metadata": {},
   "outputs": [],
   "source": [
    "# TODO: 矩阵X有什么特点？ 计算一下它的稀疏度\n",
    "def calculate_sparse(qList):\n",
    "    # 每一个问题转换成tf-idf向量\n",
    "    vectorizer = TfidfVectorizer(smooth_idf=False, lowercase=True, stop_words=stopWords)\n",
    "    # 得到的是csr_matrix型矩阵（压缩后的稀疏矩阵）\n",
    "    vectorizer.fit_transform(qList)\n",
    "    # 获取词列表\n",
    "    keywordList = vectorizer.get_feature_names()\n",
    "    wordNum = len(keywordList)\n",
    "    # 获取文档总数（问题总数）\n",
    "    docNum = len(qList)\n",
    "    #print(docNum)\n",
    "    # 计算矩阵大小\n",
    "    matrixSize = wordNum * docNum\n",
    "    #print(matrixSize)\n",
    "    # 计算零元素个数\n",
    "    zeroElementNum = 0\n",
    "    for question in qList:\n",
    "        for tmpWord in keywordList:\n",
    "            if tmpWord not in question:\n",
    "                zeroElementNum += 1\n",
    "\n",
    "    # 根据tf-idf公式，若tf为0，那么其tf-idf值必然为零 tf-idf矩阵的稀疏度为\n",
    "    return zeroElementNum / matrixSize\n",
    "# sparseDeg = calculate_sparse(qList)\n",
    "# print (sparseDeg)  # 打印出稀疏度"
   ]
  },
  {
   "cell_type": "code",
   "execution_count": 28,
   "metadata": {},
   "outputs": [],
   "source": [
    "# # 两个问题之间的相似度(余弦相似度计算)\n",
    "def calculate_cosSimilarity(input_q,qDict):\n",
    "    simiVDict = {}\n",
    "    vectorizer = TfidfVectorizer(smooth_idf = False,lowercase = True, stop_words = stopWords)\n",
    "    for idx , question in qDict.items():\n",
    "        tfidf = vectorizer.fit_transform([input_q , question])\n",
    "        simiValue = ((tfidf * tfidf.T).A)[0,1]\n",
    "        if simiValue > 0:\n",
    "            simiVDict[idx] = simiValue\n",
    "    return simiVDict"
   ]
  },
  {
   "cell_type": "markdown",
   "metadata": {},
   "source": [
    "### 4 对于用户的输入问题，找到相似度最高的TOP5问题，并把5个潜在的答案做返回"
   ]
  },
  {
   "cell_type": "markdown",
   "metadata": {},
   "source": [
    "！！！复杂度很高，需要计算很久，请耐心等待"
   ]
  },
  {
   "cell_type": "code",
   "execution_count": 29,
   "metadata": {},
   "outputs": [],
   "source": [
    "\n",
    "# 给定用户输入的问题 input_q, 返回最有可能的TOP 5问题。这里面需要做到以下几点：\n",
    "# 1. 对于用户的输入 input_q 首先做一系列的预处理，然后再转换成tf-idf向量（利用上面的vectorizer)\n",
    "# 2. 计算跟每个库里的问题之间的相似度\n",
    "# 3. 找出相似度最高的top5问题的答案\n",
    "#  \"\"\"    \n",
    "#   top_idxs = []  # top_idxs存放相似度最高的（存在qlist里的）问题的下表     \n",
    "#   return alist[top_idxs]  # 返回相似度最高的问题对应的答案，作为TOP5答案  \n",
    "\n",
    "def top5results(input_q):\n",
    "    qDict = {}\n",
    "    for idx , question in enumerate(qList):\n",
    "        qDict[idx] = question\n",
    "    simiVDict = calculate_cosSimilarity(input_q,qDict)\n",
    "    d = sorted(simiVDict, key = simiVDict.get,reverse = True)\n",
    "    print(\"top5相似-基于余弦相似度\")\n",
    "    for idx in d[:5]:\n",
    "        print(\"问题: \"+ qList[idx])\n",
    "        print(\"答案: \"+ aList[idx])"
   ]
  },
  {
   "cell_type": "code",
   "execution_count": 30,
   "metadata": {},
   "outputs": [
    {
     "name": "stdout",
     "output_type": "stream",
     "text": [
      "top5相似-基于余弦相似度\n",
      "问题: At what age did Frédéric move to Paris?\n",
      "答案: 21\n",
      "问题: At what age did Chopin move to Paris?\n",
      "答案: 21\n",
      "问题: At what age did Frédéric depart from Poland?\n",
      "答案: 20\n",
      "问题: Who was Frédéric's trusted adviser while in Paris?\n",
      "答案: Albert Grzymała\n",
      "问题: During what month did Frédéric move to Warsaw with his family?\n",
      "答案: October\n",
      "None\n"
     ]
    }
   ],
   "source": [
    "# TODO: 编写几个测试用例，并输出结果\n",
    "print (top5results(\"At what age did Frédéric move to Paris?\"))"
   ]
  },
  {
   "cell_type": "markdown",
   "metadata": {},
   "source": [
    "### 5 利用倒排表优化。 \n",
    "上面的算法，一个最大的缺点是每一个用户问题都需要跟库里的所有的问题都计算相似度。假设我们库里的问题非常多，这将是效率非常低的方法。 这里面一个方案是通过倒排表的方式，先从库里面找到跟当前的输入类似的问题描述。然后针对于这些candidates问题再做余弦相似度的计算。这样会节省大量的时间。"
   ]
  },
  {
   "cell_type": "code",
   "execution_count": 33,
   "metadata": {},
   "outputs": [
    {
     "data": {
      "text/plain": [
       "['area', 'beyonce', 'compete', 'growing']"
      ]
     },
     "execution_count": 33,
     "metadata": {},
     "output_type": "execute_result"
    }
   ],
   "source": [
    "qList_kw[1]"
   ]
  },
  {
   "cell_type": "code",
   "execution_count": 36,
   "metadata": {},
   "outputs": [],
   "source": [
    "# TODO: 基于倒排表的优化。在这里，我们可以定义一个类似于hash_map, 比如 inverted_index = {}， \n",
    "#然后存放包含每一个关键词的文档出现在了什么位置，\n",
    "#也就是，通过关键词的搜索首先来判断包含这些关键词的文档（比如出现至少一个），\n",
    "#然后对于candidates问题做相似度比较。\n",
    "def invert_idxTable(qList_kw):  # 定一个一个简单的倒排表\n",
    "    invertTable = {}\n",
    "    for idx, tmpLst in enumerate(qList_kw):\n",
    "        for kw in tmpLst:\n",
    "            if kw in invertTable.keys():\n",
    "                invertTable[kw].append(idx)\n",
    "            else:\n",
    "                invertTable[kw] = [idx]\n",
    "    return invertTable\n",
    "# 计算倒排表\n",
    "invertTable = invert_idxTable(qList_kw) \n",
    "#    给定用户输入的问题 input_q, 返回最有可能的TOP 5问题。这里面需要做到以下几点：\n",
    "#    1. 利用倒排表来筛选 candidate\n",
    "#    2. 对于用户的输入 input_q 首先做一系列的预处理，然后再转换成tf-idf向量（利用上面的vectorizer)\n",
    "#    3. 计算跟每个库里的问题之间的相似度\n",
    "#    4. 找出相似度最高的top5问题的答案\n",
    "def filter_questionByInvertTab(inputQuestionKW, questionList, invertTable):\n",
    "    idxLst = []\n",
    "    questionDict = {}\n",
    "    for kw in inputQuestionKW:\n",
    "        if kw in invertTable.keys():\n",
    "            idxLst.extend(invertTable[kw])\n",
    "    idxSet = set(idxLst)\n",
    "    for idx in idxSet:\n",
    "        questionDict[idx] = questionList[idx]\n",
    "    return questionDict\n",
    "\n",
    "def top5results_invidx(inputQuestion):\n",
    "    inputQuestionKW = clean_words(inputQuestion)\n",
    "    filteredQuestionDict = filter_questionByInvertTab(inputQuestionKW, qList, invertTable)\n",
    "    # 计算相似度\n",
    "    simiVDict = calculate_cosSimilarity(inputQuestion, filteredQuestionDict)\n",
    "    d = sorted(simiVDict, key=simiVDict.get, reverse=True)\n",
    "    #print(d)\n",
    "    # Top5最相似问题，及它们对应的答案\n",
    "    print(\"Top5相似-基于倒排表\")\n",
    "    for idx in d[:5]:\n",
    "        print(\"问题： \" + qList[idx])\n",
    "        print(\"答案： \" + aList[idx])"
   ]
  },
  {
   "cell_type": "code",
   "execution_count": 37,
   "metadata": {},
   "outputs": [
    {
     "name": "stdout",
     "output_type": "stream",
     "text": [
      "Top5相似-基于倒排表\n",
      "问题： At what age did Frédéric move to Paris?\n",
      "答案： 21\n",
      "问题： At what age did Chopin move to Paris?\n",
      "答案： 21\n",
      "问题： At what age did Frédéric depart from Poland?\n",
      "答案： 20\n",
      "问题： Who was Frédéric's trusted adviser while in Paris?\n",
      "答案： Albert Grzymała\n",
      "问题： During what month did Frédéric move to Warsaw with his family?\n",
      "答案： October\n",
      "None\n"
     ]
    }
   ],
   "source": [
    "# TODO: 编写几个测试用例，并输出结果\n",
    "print (top5results_invidx(\"At what age did Frédéric move to Paris?\"))"
   ]
  },
  {
   "cell_type": "markdown",
   "metadata": {},
   "source": [
    "### 6 基于词向量的文本表示\n",
    "上面所用到的方法论是基于词袋模型（bag-of-words model）。这样的方法论有两个主要的问题：1. 无法计算词语之间的相似度  2. 稀疏度很高。 在2.7里面我们\n",
    "讲采用词向量作为文本的表示。词向量方面需要下载： https://nlp.stanford.edu/projects/glove/ （请下载glove.6B.zip），并使用d=100的词向量（100维）。\n"
   ]
  },
  {
   "cell_type": "markdown",
   "metadata": {},
   "source": [
    "！！！注意，这个也会运行很久"
   ]
  },
  {
   "cell_type": "code",
   "execution_count": 38,
   "metadata": {},
   "outputs": [],
   "source": [
    "# TODO\n",
    "#读取每一个单词的嵌入。这个是 D*H的矩阵，这里的D是词典库的大小， H是词向量的大小。 \n",
    "#这里面我们给定的每个单词的词向量，那句子向量怎么表达？      \n",
    "#其中，最简单的方式 句子向量 = 词向量的平均（出现在问句里的）， \n",
    "#如果给定的词没有出现在词典库里，则忽略掉这个词。\n",
    "#    给定用户输入的问题 input_q, 返回最有可能的TOP 5问题。这里面需要做到以下几点：\n",
    "#    1. 利用倒排表来筛选 candidate\n",
    "#    2. 对于用户的输入 input_q，转换成句子向量\n",
    "#    3. 计算跟每个库里的问题之间的相似度\n",
    "#    4. 找出相似度最高的top5问题的答案\n",
    "\n",
    "def top5results_emb(inputQuestion):\n",
    "    def get_vectorValue(keywordList):\n",
    "        filePath = \"./data/glove.6B/glove.6B.100d.txt\"\n",
    "        vectorValueList = []\n",
    "        with open(filePath, 'r', encoding='UTF-8') as r:\n",
    "            for line in r.readlines():\n",
    "                tmpLst = line.rstrip('\\n').split(\" \")\n",
    "                word = tmpLst[0]\n",
    "                if word in keywordList:\n",
    "                    vectorValueList.append([float(x) for x in tmpLst[1:]])\n",
    "        # 按关键词的平均，算句子的向量\n",
    "        vectorSum = np.sum(vectorValueList, axis=0)\n",
    "        return vectorSum / len(vectorValueList)\n",
    "    \n",
    "    inputQuestionKW = clean_words(inputQuestion)\n",
    "    # input Question中的keywords\n",
    "    input_question_vector = get_vectorValue(inputQuestionKW)\n",
    "    simiVDict = {}\n",
    "    filteredQuestionDict = filter_questionByInvertTab(inputQuestionKW, qList, invertTable)\n",
    "    for idx, question in filteredQuestionDict.items():\n",
    "        # 取得当前问题的Vector值\n",
    "        filtered_question_vector = get_vectorValue(clean_words(question))\n",
    "        # 计算与输入问句的cos similarity\n",
    "        simiVDict[idx] = 1 - distance.cosine(input_question_vector, filtered_question_vector)\n",
    "\n",
    "    d = sorted(simiVDict, key=simiVDict.get, reverse=True)\n",
    "    print(d)\n",
    "    # Top5最相似问题对应的答案\n",
    "    print(\"计算Top5相似-基于词向量及倒排表\")\n",
    "    for idx in d[:5]:\n",
    "        print(\"问题：\" + qList[idx])\n",
    "        print(\"答案：\" + aList[idx])  "
   ]
  },
  {
   "cell_type": "code",
   "execution_count": 39,
   "metadata": {},
   "outputs": [
    {
     "name": "stdout",
     "output_type": "stream",
     "text": [
      "[772, 782, 1078, 975, 1262, 993, 930, 1045, 980, 793, 995, 844, 1003, 1092, 40307, 860, 45718, 976, 950, 1109, 1000, 1270, 32283, 60772, 1237, 1269, 1046, 1044, 80768, 61817, 47569, 924, 45268, 11415, 1008, 1029, 936, 40067, 61827, 60770, 61855, 977, 61834, 963, 4601, 45163, 4603, 1047, 911, 1001, 962, 912, 83013, 61716, 32285, 61622, 61566, 951, 1015, 847, 61637, 61915, 1077, 1449, 865, 61689, 34678, 757, 84477, 61845, 61899, 61928, 60702, 935, 35102, 1079, 61599, 40293, 61784, 61797, 994, 1027, 32382, 61798, 61871, 83009, 3253, 61582, 61564, 774, 938, 20730, 33755, 39073, 1125, 30114, 61875, 61773, 84473, 845, 39074, 1105, 1041, 1068, 61613, 762, 61676, 61769, 45305, 31402, 61648, 61849, 886, 61706, 61560, 84469, 835, 1094, 889, 61614, 61557, 61792, 44864, 32835, 40308, 61577, 890, 80563, 44855, 32286, 1103, 40309, 61839, 44896, 6718, 818, 75966, 49242, 51460, 61598, 1018, 20931, 61822, 41160, 1143, 61857, 61698, 8121, 61693, 996, 32460, 69133, 39075, 29983, 32278, 53893, 41000, 61905, 34675, 791, 40303, 61639, 6578, 937, 60501, 84474, 46071, 773, 68885, 775, 61699, 849, 38461, 61765, 84420, 61748, 61833, 40036, 61796, 84470, 20702, 1040, 47347, 84472, 887, 16097, 38404, 44734, 61719, 33306, 23396, 44894, 20729, 1093, 47565, 30122, 61704, 965, 20703, 859, 61790, 4412, 53748, 61734, 989, 820, 846, 858, 61559, 80767, 20701, 19403, 61836, 6580, 1007, 44897, 10645, 914, 861, 978, 68338, 44735, 20706, 51455, 4595, 61887, 17922, 40587, 910, 80397, 4264, 66543, 876, 80147, 42734, 20711, 22513, 61562, 80758, 44721, 61707, 61718, 4260, 30127, 61914, 42282, 46069, 61758, 21135, 80145, 21913, 38238, 58109, 83782, 8728, 53745, 61732, 32431, 32574, 80148, 76014, 21048, 40939, 848, 71056, 61626, 61731, 808, 40294, 20731, 20704, 44769, 49414, 20724, 20896, 40938, 30176, 61688, 998, 21148, 61697, 21096, 952, 21040, 10505, 61850, 20933, 30124, 30126, 66542, 53744, 61847, 71067, 61782, 64696, 38395, 34928, 54400, 61724, 58101, 61878, 1067, 61753, 756, 61741, 41001, 61932, 61678, 21104, 13411, 61729, 66544, 38693, 1058, 8716, 8187, 51313, 54267, 874, 80146, 925, 61909, 61581, 21039, 61632, 29519, 30363, 61735, 776, 8727, 21133, 61646, 79289, 20721, 61709, 61710, 1069, 30344, 80394, 27884, 875, 44710, 903, 43306, 15578, 60774, 32397, 61900, 51459, 30348, 807, 20889, 61696, 41002, 40085, 13460, 61675, 9642, 61791, 28623, 2519, 21141, 10801, 83844, 30364, 77318, 20720, 61873, 40019, 61575, 30136, 38694, 10466, 74035, 43305, 56798, 70146, 39063, 30365, 21249, 75514, 30244, 46068, 13230, 1026, 36940, 20719, 47856, 38662, 61888, 789, 24211, 75995, 36738, 20717, 1057, 754, 60759, 61908, 38711, 61571, 71072, 75892, 33728, 33729, 41004, 30544, 72065, 76117, 61607, 5729, 15389, 61757, 75710, 999, 32520, 20825, 75513, 80757, 61629, 80067, 61628, 33322, 13819, 34997, 71066, 20928, 51372, 71297, 75711, 71296, 74508, 20902, 8931, 34913, 71950, 86377, 47832, 22606, 33046, 1080, 58271, 22630, 44731, 80142, 25372, 46437, 61670, 47826, 1009, 48194, 83011, 1028, 1017, 44727, 61737, 61744, 47337, 47564, 38396, 51409, 44733, 70443, 6722, 42207, 47768, 76008, 84516, 47827, 61625, 979, 29984, 57715, 38568, 16550, 20415, 44619, 46070, 49325, 40999, 55072, 32324, 51408, 68143, 21143, 990, 47411, 30299, 61759, 71064, 20898, 74028, 8012, 65516, 36592, 21614, 61549, 3960, 29950, 47865, 22621, 18982, 44726, 51399, 13280, 55450, 36116, 1101, 64651, 76211, 44732, 997, 30381, 21152, 20712, 65059, 61624, 15851, 76763, 1081, 75512, 80771, 33727, 61762, 15215, 80582, 792, 809, 8734, 77392, 61717, 40954, 49451, 80766, 45495, 53806, 821, 10509, 61721, 76187, 49193, 69312, 55711, 11566, 1010, 13663, 8871, 56818, 6054, 61861, 12991, 32499, 83059, 86224, 34998, 61733, 7180, 7381, 49464, 82480, 30432, 30313, 1039, 41066, 23397, 63275, 61876, 58095, 61633, 44728, 70114, 31475, 14220, 47828, 30480, 64811, 61926, 61715, 833, 69132, 75923, 44620, 61551, 70445, 16549, 4406, 8718, 21121, 55036, 4883, 38072, 39330, 30382, 62025, 71487, 12927, 21532, 1059, 61679, 84358, 8826, 30376, 44877, 38794, 75709, 71071, 12591, 32477, 61672, 5492, 30949, 61691, 71288, 1056, 47775, 80772, 902, 33308, 61705, 28529, 32218, 27885, 37372, 1110, 1114, 45938, 32222, 38798, 32343, 84478, 30128, 61807, 33557, 74323, 21142, 5493, 59774, 22610, 23194, 65079, 69650, 46614, 30259, 806, 888, 70385, 24254, 45475, 85219, 64741, 22629, 30261, 80082, 8254, 53760, 22628, 61730, 84476, 60667, 67512, 68401, 43303, 65088, 61742, 37805, 51431, 30406, 30312, 4887, 53817, 76130, 68877, 40814, 65238, 70273, 86497, 49543, 74324, 58374, 63255, 32581, 26224, 6717, 31528, 30345, 30377, 32003, 68412, 35677, 790, 67809, 71148, 69719, 81694, 71404, 61919, 75676, 30875, 76768, 38071, 755, 13551, 6055, 13816, 4385, 21146, 40062, 61868, 71151, 51030, 47858, 16369, 36298, 64695, 20901, 49292, 61708, 13665, 84135, 901, 71153, 61525, 16414, 84038, 32910, 41860, 13813, 14496, 33323, 79681, 30545, 58104, 33334, 43334, 17395, 44089, 61874, 14946, 30498, 75394, 56831, 6057, 58957, 80081, 75400, 16516, 817, 61627, 51322, 29631, 9056, 24212, 37665, 72368, 48190, 4400, 39331, 3968, 39812, 30343, 79361, 79362, 30403, 26905, 30905, 20158, 22626, 28171, 57930, 30329, 29518, 41617, 47363, 9138, 30273, 67718, 75399, 42436, 31997, 80486, 834, 45436, 61843, 47266, 54278, 16586, 31975, 27151, 75398, 63226, 65422, 80113, 58, 20160, 33649, 76694, 12545, 8064, 30314, 61750, 67837, 66548, 8882, 8870, 1550, 37230, 6716, 56770, 14956, 75668, 53203, 52154, 61335, 49465, 44895, 60906, 71075, 32519, 19241, 904, 42492, 60067, 68997, 41849, 41281, 66097, 41162, 862, 4908, 61903, 43316, 70297, 61671, 48965, 30410, 16556, 2517, 35775, 83495, 35777, 20443, 39328, 44940, 61907, 29498, 45487, 63745, 77181, 39320, 68991, 77524, 60516, 41985, 39018, 22351, 18862, 37787, 59524, 61889, 22609, 18818, 9831, 2465, 29789, 71289, 18152, 49541, 80415, 45972, 6056, 77180, 70575, 39326, 59449, 47840, 85986, 9641, 13039, 25154, 57507, 33019, 81813, 30543, 75393, 14219, 5591, 80053, 68380, 25747, 70, 1946, 991, 49548, 30767, 2911, 9909, 14667, 71633, 73236, 36710, 51682, 34412, 48971, 65761, 26007, 48962, 27369, 37407, 27174, 7158, 22611, 49013, 79185, 84857, 37376, 73605, 71286, 1685, 753, 56677, 48968, 949, 46379, 78937, 38016, 59554, 17095, 47846, 22352, 46382, 48963, 82405, 46383, 73233]\n",
      "计算Top5相似-基于词向量及倒排表\n",
      "问题：At what age did Frédéric move to Paris?\n",
      "答案：21\n",
      "问题：At what age did Chopin move to Paris?\n",
      "答案：21\n",
      "问题：What event occurred on Frédéric's return to Paris?\n",
      "答案：his association with Sand began in earnest\n",
      "问题：What event was Frédéric a part of when he arrived in Paris during the later part of September in 1831?\n",
      "答案：the Polish Great Emigration\n",
      "问题：When did Chopin return to Paris?\n",
      "答案：November\n",
      "None\n"
     ]
    }
   ],
   "source": [
    "# TODO: 编写几个测试用例，并输出结果\n",
    "print (top5results_emb(\"At what age did Frédéric move to Paris?\"))\n",
    "# 我们在验收作业时在后台会建立几个测试用例，来验证返回的准确性。"
   ]
  },
  {
   "cell_type": "code",
   "execution_count": null,
   "metadata": {},
   "outputs": [],
   "source": []
  },
  {
   "cell_type": "code",
   "execution_count": null,
   "metadata": {},
   "outputs": [],
   "source": []
  },
  {
   "cell_type": "code",
   "execution_count": null,
   "metadata": {},
   "outputs": [],
   "source": []
  },
  {
   "cell_type": "code",
   "execution_count": null,
   "metadata": {},
   "outputs": [],
   "source": []
  }
 ],
 "metadata": {
  "kernelspec": {
   "display_name": "Python 3",
   "language": "python",
   "name": "python3"
  },
  "language_info": {
   "codemirror_mode": {
    "name": "ipython",
    "version": 3
   },
   "file_extension": ".py",
   "mimetype": "text/x-python",
   "name": "python",
   "nbconvert_exporter": "python",
   "pygments_lexer": "ipython3",
   "version": "3.6.9"
  }
 },
 "nbformat": 4,
 "nbformat_minor": 2
}
