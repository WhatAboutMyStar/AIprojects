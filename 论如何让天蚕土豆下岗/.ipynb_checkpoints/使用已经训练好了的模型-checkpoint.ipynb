{
 "cells": [
  {
   "cell_type": "code",
   "execution_count": 1,
   "metadata": {},
   "outputs": [
    {
     "data": {
      "text/plain": [
       "'2.0.0'"
      ]
     },
     "execution_count": 1,
     "metadata": {},
     "output_type": "execute_result"
    }
   ],
   "source": [
    "import tensorflow as tf\n",
    "import numpy as np\n",
    "import json\n",
    "tf.__version__"
   ]
  },
  {
   "cell_type": "code",
   "execution_count": 8,
   "metadata": {},
   "outputs": [
    {
     "name": "stdout",
     "output_type": "stream",
     "text": [
      "WARNING:tensorflow:No training configuration found in save file: the model was *not* compiled. Compile it manually.\n"
     ]
    }
   ],
   "source": [
    "model = tf.keras.models.load_model(\"./model.h5\")"
   ]
  },
  {
   "cell_type": "code",
   "execution_count": 9,
   "metadata": {},
   "outputs": [],
   "source": [
    "with open(\"./data/id2word.txt\",'r') as f:\n",
    "    id_to_word = f.read().split()\n",
    "with open(\"./data/word2id.json\",'r') as f:\n",
    "    word_to_id = json.load(f)"
   ]
  },
  {
   "cell_type": "code",
   "execution_count": 10,
   "metadata": {},
   "outputs": [],
   "source": [
    "def generate_text(model, start_string):\n",
    "  # 评估步骤（用学习过的模型生成文本）\n",
    "\n",
    "  # 要生成的字符个数\n",
    "    num_generate = 1000    #你可以调整这个参数\n",
    "\n",
    "  # 将起始字符串转换为数字（向量化）\n",
    "\n",
    "    input_eval = [word_to_id[s] for s in start_string]\n",
    "    input_eval = tf.expand_dims(input_eval, 0)\n",
    "\n",
    "  # 空字符串用于存储结果\n",
    "    text_generated = []\n",
    "\n",
    "  # 低温度会生成更可预测的文本\n",
    "  # 较高温度会生成更令人惊讶的文本\n",
    "  # 可以通过试验以找到最好的设定\n",
    "    temperature = 0.4     #可调整\n",
    "\n",
    "  # 这里批大小为 1\n",
    "    model.reset_states()\n",
    "    for i in range(num_generate):\n",
    "        predictions = model(input_eval)\n",
    "      # 删除批次的维度\n",
    "        predictions = tf.squeeze(predictions, 0)\n",
    "\n",
    "      # 用分类分布预测模型返回的字符\n",
    "        predictions = predictions / temperature\n",
    "        predicted_id = tf.random.categorical(predictions, num_samples=1)[-1,0].numpy()\n",
    "\n",
    "      # 把预测字符和前面的隐藏状态一起传递给模型作为下一个输入\n",
    "        input_eval = tf.expand_dims([predicted_id], 0)\n",
    "\n",
    "        text_generated.append(id_to_word[predicted_id])\n",
    "\n",
    "    return (start_string + ''.join(text_generated))"
   ]
  },
  {
   "cell_type": "code",
   "execution_count": 11,
   "metadata": {},
   "outputs": [
    {
     "data": {
      "text/plain": [
       "'萧炎翼如镜炼气塔血丹池鱼蓝炎一碗一千五百雕骇于要算品莲心树皮一潭望耳旁风一千五百零七十一两百零零三十二章星斗炎火地宝炎火地宝炎火炎火菲塑骨丹面具菲一千三百零零十二章覆日阵香腮香腮香腮椅背椅上天尺)第一千五百零零二章亲近尊（下）“”“哼，你？”萧炎冲着他微笑道：“我可知道，你也不知道你的，你也不会有什么事。”“嗯。”萧炎微微点头，对着萧炎微笑道。“看来你的实力，恐怕也是想要将你给炼化了...”萧炎目光转向萧炎，道。“嗯，你是我的，我也是要看看，你若是要让你的话，你也不会让我的鬼，我是有些担心的，你也是要看看，我倒是不会让我的本事，所以，你也将会是对你的炼化，不然的话，我也是会让你的。”萧炎心中也是掠过一抹喜意，这，他自然是明白，他也是在他的心中，但却并未有丝毫的，而是他的实力，甚至，也是令得他的实力，以他的实力，都是能够轻易的将之击败，他的灵魂力量，也是能够拥有着异火的异火，而在其灵魂力量的，那也是极为的恐怖，因此，即便是以他的实力，也是能够将之炼化的，而萧炎的灵魂，也是被炼化了一个相当的恐怖。“嗤！”“嗤！”“嗤！”“嘭！”“嘭！”“嘭！”在那无数道目光的注视下，在萧炎面前，一道身影闪掠而出，然后便是对着天空上掠去，其后，萧炎也是连忙跟上。“既然你的，也是要看看，你还没！”见到那副模样，萧炎不由得笑道。“萧炎，你的？”萧炎目光转向萧炎，道：“萧炎，你的实力，也是逃不出我的，但现在，他也是能够感觉到了一种极为的暴戾的味道，但却是让得他的感觉...”“是吧？”“嗯，你也是得晚了吧？”萧炎微微点头，目光望着萧炎，道。“嗯，看来这家伙，你若是能够让得你的，也是会要了，但他也是有所，但却并不可能，而是对萧炎的灵魂力量，不过如今的他，也是能够感觉到，他的实力，方才能够感觉到一种极为的恐怖，但那种感觉，却是难以将其的灵魂力量，在他的实力，已是能够感觉到，他的实力，即便是他，都是能够让得他的感觉，这，他是有着一种极端的恐怖，但这与他相比，他却是能够将其的灵魂力量，而在他的感知中，他也是真正的达到了斗帝层次，看来这等人，即便是放眼中州，都是会在中州上的顶尖强者。“呵呵，看来这家伙，也是有些。”萧炎的目光，盯着萧炎，也是在此刻的那一霎，一股极端浓郁的能量波动，从其体内暴涌而出，最后化为一道巨大的黑色，而随着其身体的出现，萧炎的身体也是被其身体上，都是被了出来。“嘭！”随着萧炎的喝声落下，那也是猛的剧烈的颤抖了起来，旋即，在那一霎，在那一霎，那巨大的身体，便是直接被其生生震散，而在那等人的身体之上，一道巨大的黑色光圈便是在地面上，直接是化为一道金光，然后在黑色锁链之上，将其身体上的空间，尽数蒸发，而其身形，便是化为一道流光，对着地面上暴射而去。“嘭！”在那一霎，那巨大的地面，也是引起了那一道道震撼的目光，而此刻的那一霎，便是化为一道流光，而出，最后在那众多目光注视下，在天空上，在那无数道目光中，目光死死的盯着那在广场上的那巨大，犹如一般，在这一刻，在天空上，在那一道道目光中，也是有着许些凝重，显然，他们的都是未曾料到，你也是在萧炎心中的念头，那的时候，便是在那众多大陆上的地位，都是在此刻，在这中州上，也是有着不少的人，而在那无数道目光注视下，也是徐徐的减弱，而在萧炎的目光，却是见到萧炎，目光在四周扫过，然后目光转向萧炎，道：'"
      ]
     },
     "execution_count": 11,
     "metadata": {},
     "output_type": "execute_result"
    }
   ],
   "source": [
    "generate_text(model,start_string=\"萧炎\")"
   ]
  },
  {
   "cell_type": "code",
   "execution_count": null,
   "metadata": {},
   "outputs": [],
   "source": []
  }
 ],
 "metadata": {
  "kernelspec": {
   "display_name": "Python 3",
   "language": "python",
   "name": "python3"
  },
  "language_info": {
   "codemirror_mode": {
    "name": "ipython",
    "version": 3
   },
   "file_extension": ".py",
   "mimetype": "text/x-python",
   "name": "python",
   "nbconvert_exporter": "python",
   "pygments_lexer": "ipython3",
   "version": "3.6.9"
  }
 },
 "nbformat": 4,
 "nbformat_minor": 2
}
